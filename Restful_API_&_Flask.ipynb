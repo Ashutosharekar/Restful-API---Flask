{
  "nbformat": 4,
  "nbformat_minor": 0,
  "metadata": {
    "colab": {
      "provenance": []
    },
    "kernelspec": {
      "name": "python3",
      "display_name": "Python 3"
    },
    "language_info": {
      "name": "python"
    }
  },
  "cells": [
    {
      "cell_type": "markdown",
      "source": [
        "#Restful API & Flask Assignment\n",
        "\n",
        "1. What is a RESTful API?\n",
        "- A RESTful API is an interface that allows communication between client and server using HTTP methods. It follows REST (Representational State Transfer) principles such as statelessness and resource-based URLs. Data is usually exchanged in JSON or XML format. It is widely used in web and mobile apps.\n",
        "\n",
        "2. Explain the concept of API specification.\n",
        "- An API specification defines how an API should behave, its endpoints, request/response formats, and authentication methods. It acts like a contract between the API provider and consumer. Common specifications include OpenAPI and Swagger. It ensures consistency and ease of integration.\n",
        "\n",
        "\n",
        "3. What is Flask, and why is it popular for building APIs?\n",
        "- Flask is a lightweight Python web framework used to build web apps and APIs. It is popular because it is simple, flexible, and has minimal boilerplate code. Flask supports extensions like Flask-SQLAlchemy and Flask-RESTful for advanced features. It’s widely used for small to medium projects and prototyping.\n",
        "\n",
        "\n",
        "4. What is routing in Flask?\n",
        "- Routing in Flask maps a URL path to a specific function in the application. It is defined using the @app.route() decorator. When a user requests a URL, Flask runs the corresponding function. This makes it easy to organize and manage different API endpoints.\n",
        "\n",
        "5. How do you create a simple Flask application?\n",
        "- To create a Flask app, first import Flask, initialize the app, define routes, and run the app. Example:\n",
        "```\n",
        "from flask import Flask\n",
        "app = Flask(__name__)\n",
        "\n",
        "@app.route('/')\n",
        "def home():\n",
        "    return \"Hello, Flask!\"\n",
        "app.run()\n",
        "\n",
        "```\n",
        "This starts a basic web server.\n",
        "\n",
        "6. What are HTTP methods used in RESTful APIs?\n",
        "- The main HTTP methods are:\n",
        "\n",
        "GET – Retrieve data\n",
        "\n",
        "POST – Create new data\n",
        "\n",
        "PUT/PATCH – Update existing data\n",
        "\n",
        "DELETE – Remove data\n",
        "They are used to perform CRUD operations on resources.\n",
        "\n",
        "7. What is the purpose of the @app.route() decorator in Flask?\n",
        "- The @app.route() decorator maps a URL to a Python function. It defines how Flask should respond when a client accesses that route. You can also specify allowed HTTP methods like GET or POST. It is the core feature for creating endpoints.\n",
        "\n",
        "8. What is the difference between GET and POST HTTP methods?\n",
        "- GET is used to retrieve data and sends parameters via the URL. It is visible and less secure.\n",
        "- POST is used to send data (like form input) in the request body, making it more secure.\n",
        "GET is idempotent (doesn’t change data), while POST is used for creating or modifying resources.\n",
        "\n",
        "9. How do you handle errors in Flask APIs?\n",
        "- Errors in Flask can be handled using try-except blocks or custom error handlers. Flask provides @app.errorhandler() to manage specific HTTP errors like 404 or 500. Returning proper status codes and JSON error messages improves API reliability.\n",
        "\n",
        "10. How do you connect Flask to a SQL database?\n",
        "- Flask connects to databases using libraries like Flask-SQLAlchemy. You configure the database URI in app.config, initialize SQLAlchemy, and define models.\n",
        " - Example:\n",
        "```\n",
        "app.config['SQLALCHEMY_DATABASE_URI'] = 'sqlite:///data.db'\n",
        "db = SQLAlchemy(app)\n",
        "\n",
        "```\n",
        "11. What is the role of Flask-SQLAlchemy?\n",
        "- Flask-SQLAlchemy is an extension that integrates SQLAlchemy ORM with Flask. It simplifies database connections, table creation, and queries. Developers can define database models as Python classes. It makes database operations more Pythonic and reduces boilerplate.\n",
        "\n",
        "12. What are Flask blueprints, and how are they useful?\n",
        "- Blueprints help organize large Flask apps into smaller modules. They allow grouping routes, templates, and static files. This makes code more structured, reusable, and scalable. For example, you can create separate blueprints for “auth” and “admin” parts of the app.\n",
        "\n",
        "13. What is the purpose of Flask's request object?\n",
        "- The request object in Flask contains all HTTP request data. It holds form inputs, JSON payloads, headers, and query parameters. Developers use it to access client-sent data inside route functions. Example: request.form['name'].\n",
        "\n",
        "14. How do you create a RESTful API endpoint using Flask?\n",
        "- You define a route with @app.route() and allow methods like GET or POST. Inside the function, process input data and return JSON responses.\n",
        "- Example:\n",
        "```\n",
        "@app.route('/api/data', methods=['GET'])\n",
        "def get_data():\n",
        "    return jsonify({\"message\": \"Hello API\"})\n",
        "    \n",
        "```\n",
        "\n",
        "15. What is the purpose of Flask's jsonify() function?\n",
        "- jsonify() converts Python dictionaries or lists into JSON responses. It also sets the correct content type (application/json). This makes it easier to build RESTful APIs that return structured JSON data.\n",
        "\n",
        "16. Explain Flask's url_for() function.\n",
        "- The url_for() function generates dynamic URLs for routes based on function names. This avoids hardcoding paths in templates or redirects. Example: url_for('home') returns the URL mapped to the home function. It ensures flexibility if routes change.\n",
        "\n",
        "17. How does Flask handle static files (CSS, JavaScript, etc.)?\n",
        "- Flask serves static files from the static folder by default. They can be accessed in templates using url_for('static', filename='style.css'). This makes it easy to link CSS, JS, or images in a Flask app.\n",
        "\n",
        "18. What is an API specification, and how does it help in building a Flask API?\n",
        "- An API specification defines the structure, endpoints, request types, and responses of an API. Tools like Swagger/OpenAPI provide clear documentation. In Flask, it ensures developers follow a consistent design and makes integration easier for clients.\n",
        "\n",
        "19. What are HTTP status codes, and why are they important in a Flask API?\n",
        "- HTTP status codes indicate the result of an API request. For example, 200 (OK) means success, 404 (Not Found) means resource missing, and 500 (Server Error) indicates failure. They help clients understand responses and handle them properly.\n",
        "\n",
        "20. How do you handle POST requests in Flask?\n",
        "- POST requests are handled by setting methods=['POST'] in a route. Data can be retrieved using request.form or request.json. Example:\n",
        "```\n",
        "@app.route('/submit', methods=['POST'])\n",
        "def submit():\n",
        "    data = request.json\n",
        "    return jsonify(data)\n",
        "\n",
        "```\n",
        "\n",
        "21. How would you secure a Flask API?\n",
        "- Flask APIs can be secured using authentication (JWT, OAuth), HTTPS, input validation, and rate limiting. You can also implement API keys for access control. Flask extensions like Flask-JWT-Extended help in token-based security.\n",
        "\n",
        "22. What is the significance of the Flask-RESTful extension?\n",
        "- Flask-RESTful simplifies building REST APIs in Flask. It provides resource-based classes, request parsing, and automatic error handling. It reduces boilerplate code and makes API development faster and more organized.\n",
        "\n",
        "23. What is the role of Flask's session object?\n",
        "- The session object stores data about a user across requests (e.g., login info). Flask stores session data in cookies, signed cryptographically for security. It helps manage user-specific states in a web app.\n",
        "\n"
      ],
      "metadata": {
        "id": "avjCC09AMm4X"
      }
    },
    {
      "cell_type": "markdown",
      "source": [
        "#Practical Questions"
      ],
      "metadata": {
        "id": "6yewC8onQiIk"
      }
    },
    {
      "cell_type": "code",
      "source": [
        "#1. How do you create a basic Flask application?\n",
        "from flask import Flask\n",
        "app = Flask(__name__)\n",
        "\n",
        "@app.route('/')\n",
        "def home():\n",
        "    return \"Hello, Flask!\"\n",
        "\n",
        "if __name__ == '__main__':\n",
        "    app.run(debug=True)"
      ],
      "metadata": {
        "id": "LBBgSA01lVkT"
      },
      "execution_count": null,
      "outputs": []
    },
    {
      "cell_type": "code",
      "source": [
        "#2. How do you serve static files like images or CSS in Flask?\n",
        "from flask import Flask, url_for\n",
        "app = Flask(__name__)\n",
        "<link rel=\"stylesheet\" href=\"{{ url_for('static', filename='style.css') }}\">\n",
        "<img src=\"{{ url_for('static', filename='image.png') }}\">\n"
      ],
      "metadata": {
        "id": "0o6KPRfKlXUl"
      },
      "execution_count": null,
      "outputs": []
    },
    {
      "cell_type": "code",
      "source": [
        "#3. How do you define different routes with different HTTP methods in Flask?\n",
        "from flask import request\n",
        "\n",
        "@app.route('/submit', methods=['GET', 'POST'])\n",
        "def submit():\n",
        "    if request.method == 'POST':\n",
        "        return \"Form submitted!\"\n",
        "    return \"Send data with POST\"\n"
      ],
      "metadata": {
        "id": "1ddbot_Yls_M"
      },
      "execution_count": null,
      "outputs": []
    },
    {
      "cell_type": "code",
      "source": [
        "#4. How do you render HTML templates in Flask?\n",
        "\n",
        "from flask import render_template\n",
        "\n",
        "@app.route('/hello')\n",
        "def hello():\n",
        "    return render_template('index.html', name=\"Ashutosh\")\n"
      ],
      "metadata": {
        "id": "tXxOq4OfmAmL"
      },
      "execution_count": null,
      "outputs": []
    },
    {
      "cell_type": "code",
      "source": [
        "#5. How can you generate URLs for routes in Flask using url_for?\n",
        "from flask import url_for, redirect\n",
        "\n",
        "@app.route('/login')\n",
        "def login():\n",
        "    return \"Login Page\"\n",
        "\n",
        "@app.route('/go')\n",
        "def go():\n",
        "    return redirect(url_for('login'))\n"
      ],
      "metadata": {
        "id": "b_oH0e58mLjk"
      },
      "execution_count": null,
      "outputs": []
    },
    {
      "cell_type": "code",
      "source": [
        "#6. How do you handle forms in Flask?\n",
        "\n",
        "@app.route('/form', methods=['GET', 'POST'])\n",
        "def form():\n",
        "    if request.method == 'POST':\n",
        "        name = request.form['name']\n",
        "        return f\"Hello {name}\"\n",
        "    return render_template('form.html')\n"
      ],
      "metadata": {
        "id": "jitP2Xn1mSBB"
      },
      "execution_count": null,
      "outputs": []
    },
    {
      "cell_type": "code",
      "source": [
        "#7. How can you validate form data in Flask?\n",
        "from flask_wtf import FlaskForm\n",
        "from wtforms import StringField\n",
        "from wtforms.validators import DataRequired\n",
        "\n",
        "class MyForm(FlaskForm):\n",
        "    name = StringField('Name', validators=[DataRequired()])\n"
      ],
      "metadata": {
        "id": "8Y1X8Qj6mYyk"
      },
      "execution_count": null,
      "outputs": []
    },
    {
      "cell_type": "code",
      "source": [
        "#8. How do you manage sessions in Flask?\n",
        "from flask import session\n",
        "\n",
        "app.secret_key = \"secret123\"\n",
        "\n",
        "@app.route('/set')\n",
        "def set_session():\n",
        "    session['user'] = 'Ashutosh'\n",
        "    return \"Session set!\"\n",
        "\n",
        "@app.route('/get')\n",
        "def get_session():\n",
        "    return session.get('user', 'Not set')\n"
      ],
      "metadata": {
        "id": "WC3WVo_4mgD3"
      },
      "execution_count": null,
      "outputs": []
    },
    {
      "cell_type": "code",
      "source": [
        "#9. How do you redirect to a different route in Flask?\n",
        "from flask import redirect\n",
        "\n",
        "@app.route('/old')\n",
        "def old():\n",
        "    return redirect('/new')\n",
        "\n",
        "@app.route('/new')\n",
        "def new():\n",
        "    return \"New Page\"\n"
      ],
      "metadata": {
        "id": "x506O2DEmllI"
      },
      "execution_count": null,
      "outputs": []
    },
    {
      "cell_type": "code",
      "source": [
        "#10. How do you handle errors in Flask (e.g., 404)?\n",
        "@app.errorhandler(404)\n",
        "def not_found(error):\n",
        "    return \"Page not found!\", 404\n"
      ],
      "metadata": {
        "id": "gL8wmQmGml7k"
      },
      "execution_count": null,
      "outputs": []
    },
    {
      "cell_type": "code",
      "source": [
        "#11. How do you structure a Flask app using Blueprints?\n",
        "\n",
        "from flask import Blueprint\n",
        "user_bp = Blueprint('user', __name__)\n",
        "\n",
        "@user_bp.route('/profile')\n",
        "def profile():\n",
        "    return \"User Profile\"\n",
        "\n",
        "\n",
        "app.register_blueprint(user_bp, url_prefix='/user')\n"
      ],
      "metadata": {
        "id": "FPAbcpIxmmXs"
      },
      "execution_count": null,
      "outputs": []
    },
    {
      "cell_type": "code",
      "source": [
        "#12. How do you define a custom Jinja filter in Flask?\n",
        "@app.template_filter('reverse')\n",
        "def reverse_filter(s):\n",
        "    return s[::-1]\n"
      ],
      "metadata": {
        "id": "FIJwlp3Ammvs"
      },
      "execution_count": null,
      "outputs": []
    },
    {
      "cell_type": "code",
      "source": [
        "#13. How can you redirect with query parameters in Flask?\n",
        "@app.route('/redirect-me')\n",
        "def redirect_me():\n",
        "    return redirect(url_for('show', name='Ashu'))\n",
        "\n",
        "@app.route('/show')\n",
        "def show():\n",
        "    name = request.args.get('name')\n",
        "    return f\"Hello {name}\"\n"
      ],
      "metadata": {
        "id": "BKK1GZ2BmnJ_"
      },
      "execution_count": null,
      "outputs": []
    },
    {
      "cell_type": "code",
      "source": [
        "#14. How do you return JSON responses in Flask?\n",
        "from flask import jsonify\n",
        "\n",
        "@app.route('/data')\n",
        "def data():\n",
        "    return jsonify({\"name\": \"Ashutosh\", \"age\": 21})\n"
      ],
      "metadata": {
        "id": "jL52OQfsmngn"
      },
      "execution_count": null,
      "outputs": []
    },
    {
      "cell_type": "code",
      "source": [
        "#15. How do you capture URL parameters in Flask?\n",
        "@app.route('/user/<username>')\n",
        "def user(username):\n",
        "    return f\"Hello {username}\"\n"
      ],
      "metadata": {
        "id": "QSyKcEp9mn_F"
      },
      "execution_count": null,
      "outputs": []
    }
  ]
}